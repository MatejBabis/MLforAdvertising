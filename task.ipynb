{
 "cells": [
  {
   "cell_type": "markdown",
   "metadata": {},
   "source": [
    "# Část 1 - aukce\n",
    "Načtěte soubor “bids_train.csv”. Data obsahují záznamy z proběhlých aukcí. Prodejce nabízel reklamní prostor účastníkům aukce. V těchto aukcích soutěžili tři účastníci (bidders) A, B, a C, ale ne všichni se musí zúčastnit každé aukce. Hodnoty v tabulce jsou nabídky (bids) daného účastníka v dané aukci. Aukce je typu second-price; to znamená, že aukci vyhraje účastník s nejvyšší nabídkou a zaplatí druhou nejvyšší nabídku.\n",
    "\n",
    "1. Spočítejte procenta výher pro každého účastníka. Tj. *počet aukcí, které vyhrál účastník A* děleno *celkový počet aukcí* atd.\n",
    "2. Pro každou aukci určete cenu, kterou musel výherce zaplatit.\n",
    "3. Jaký je celkový výnos prodejce ze všech aukcí?\n",
    "4. Řekněme, že z pohledu prodejce jsou ceny náhodné veličiny. Zkuste odhadnout, jakým rozdělením pravděpodobnosti se ceny řídí.\n",
    "5. Který účastník má nejvyšší ochotu platit?\n",
    "6. Zobrazte vývoj ceny v čase (tj. ceny, kterou musel výherce zaplatit v každé aukci)."
   ]
  },
  {
   "cell_type": "code",
   "execution_count": 1,
   "metadata": {},
   "outputs": [],
   "source": [
    "import numpy as np\n",
    "import pandas as pd\n",
    "import matplotlib.pyplot as plt\n",
    "import matplotlib.dates as mdates\n",
    "%matplotlib inline\n",
    "\n",
    "plt.rcParams['figure.figsize'] = (12, 8)\n",
    "RANDOM_STATE = 42\n",
    "np.random.seed(RANDOM_STATE)"
   ]
  },
  {
   "cell_type": "code",
   "execution_count": 2,
   "metadata": {},
   "outputs": [
    {
     "data": {
      "text/html": [
       "<div>\n",
       "<style scoped>\n",
       "    .dataframe tbody tr th:only-of-type {\n",
       "        vertical-align: middle;\n",
       "    }\n",
       "\n",
       "    .dataframe tbody tr th {\n",
       "        vertical-align: top;\n",
       "    }\n",
       "\n",
       "    .dataframe thead th {\n",
       "        text-align: right;\n",
       "    }\n",
       "</style>\n",
       "<table border=\"1\" class=\"dataframe\">\n",
       "  <thead>\n",
       "    <tr style=\"text-align: right;\">\n",
       "      <th></th>\n",
       "      <th>auction_id</th>\n",
       "      <th>A</th>\n",
       "      <th>B</th>\n",
       "      <th>C</th>\n",
       "    </tr>\n",
       "  </thead>\n",
       "  <tbody>\n",
       "    <tr>\n",
       "      <th>count</th>\n",
       "      <td>400.000000</td>\n",
       "      <td>390.000000</td>\n",
       "      <td>394.000000</td>\n",
       "      <td>396.000000</td>\n",
       "    </tr>\n",
       "    <tr>\n",
       "      <th>mean</th>\n",
       "      <td>199.500000</td>\n",
       "      <td>7.338462</td>\n",
       "      <td>14.279188</td>\n",
       "      <td>31.452020</td>\n",
       "    </tr>\n",
       "    <tr>\n",
       "      <th>std</th>\n",
       "      <td>115.614301</td>\n",
       "      <td>18.778736</td>\n",
       "      <td>34.382717</td>\n",
       "      <td>38.596717</td>\n",
       "    </tr>\n",
       "    <tr>\n",
       "      <th>min</th>\n",
       "      <td>0.000000</td>\n",
       "      <td>0.000000</td>\n",
       "      <td>0.000000</td>\n",
       "      <td>2.000000</td>\n",
       "    </tr>\n",
       "    <tr>\n",
       "      <th>25%</th>\n",
       "      <td>99.750000</td>\n",
       "      <td>1.000000</td>\n",
       "      <td>3.000000</td>\n",
       "      <td>11.000000</td>\n",
       "    </tr>\n",
       "    <tr>\n",
       "      <th>50%</th>\n",
       "      <td>199.500000</td>\n",
       "      <td>3.000000</td>\n",
       "      <td>7.000000</td>\n",
       "      <td>20.000000</td>\n",
       "    </tr>\n",
       "    <tr>\n",
       "      <th>75%</th>\n",
       "      <td>299.250000</td>\n",
       "      <td>6.000000</td>\n",
       "      <td>14.000000</td>\n",
       "      <td>37.000000</td>\n",
       "    </tr>\n",
       "    <tr>\n",
       "      <th>max</th>\n",
       "      <td>399.000000</td>\n",
       "      <td>219.000000</td>\n",
       "      <td>563.000000</td>\n",
       "      <td>421.000000</td>\n",
       "    </tr>\n",
       "  </tbody>\n",
       "</table>\n",
       "</div>"
      ],
      "text/plain": [
       "       auction_id           A           B           C\n",
       "count  400.000000  390.000000  394.000000  396.000000\n",
       "mean   199.500000    7.338462   14.279188   31.452020\n",
       "std    115.614301   18.778736   34.382717   38.596717\n",
       "min      0.000000    0.000000    0.000000    2.000000\n",
       "25%     99.750000    1.000000    3.000000   11.000000\n",
       "50%    199.500000    3.000000    7.000000   20.000000\n",
       "75%    299.250000    6.000000   14.000000   37.000000\n",
       "max    399.000000  219.000000  563.000000  421.000000"
      ]
     },
     "execution_count": 2,
     "metadata": {},
     "output_type": "execute_result"
    }
   ],
   "source": [
    "df_bids = pd.read_csv(\"./bids_train.csv\")\n",
    "df_bids.describe()"
   ]
  },
  {
   "cell_type": "code",
   "execution_count": 3,
   "metadata": {},
   "outputs": [],
   "source": [
    "# auction_id is de facto the index -> redundant column\n",
    "df_bids.index = df_bids.auction_id\n",
    "df_bids.drop(\"auction_id\", axis=1, inplace=True)"
   ]
  },
  {
   "cell_type": "code",
   "execution_count": 4,
   "metadata": {},
   "outputs": [
    {
     "data": {
      "text/plain": [
       "time     0\n",
       "A       10\n",
       "B        6\n",
       "C        4\n",
       "dtype: int64"
      ]
     },
     "execution_count": 4,
     "metadata": {},
     "output_type": "execute_result"
    }
   ],
   "source": [
    "# get NaN counts\n",
    "df_bids.isna().sum()"
   ]
  },
  {
   "cell_type": "markdown",
   "metadata": {},
   "source": [
    "Assuming `NaN` represents a bidder not taking part in the auction and `0` is a legitimate bid."
   ]
  },
  {
   "cell_type": "code",
   "execution_count": 5,
   "metadata": {},
   "outputs": [
    {
     "data": {
      "text/html": [
       "<div>\n",
       "<style scoped>\n",
       "    .dataframe tbody tr th:only-of-type {\n",
       "        vertical-align: middle;\n",
       "    }\n",
       "\n",
       "    .dataframe tbody tr th {\n",
       "        vertical-align: top;\n",
       "    }\n",
       "\n",
       "    .dataframe thead th {\n",
       "        text-align: right;\n",
       "    }\n",
       "</style>\n",
       "<table border=\"1\" class=\"dataframe\">\n",
       "  <thead>\n",
       "    <tr style=\"text-align: right;\">\n",
       "      <th></th>\n",
       "      <th>time</th>\n",
       "      <th>A</th>\n",
       "      <th>B</th>\n",
       "      <th>C</th>\n",
       "    </tr>\n",
       "    <tr>\n",
       "      <th>auction_id</th>\n",
       "      <th></th>\n",
       "      <th></th>\n",
       "      <th></th>\n",
       "      <th></th>\n",
       "    </tr>\n",
       "  </thead>\n",
       "  <tbody>\n",
       "    <tr>\n",
       "      <th>8</th>\n",
       "      <td>2020-01-01 00:05:46</td>\n",
       "      <td>3.0</td>\n",
       "      <td>NaN</td>\n",
       "      <td>NaN</td>\n",
       "    </tr>\n",
       "    <tr>\n",
       "      <th>25</th>\n",
       "      <td>2020-01-01 00:18:01</td>\n",
       "      <td>NaN</td>\n",
       "      <td>NaN</td>\n",
       "      <td>241.0</td>\n",
       "    </tr>\n",
       "  </tbody>\n",
       "</table>\n",
       "</div>"
      ],
      "text/plain": [
       "                           time    A   B      C\n",
       "auction_id                                     \n",
       "8           2020-01-01 00:05:46  3.0 NaN    NaN\n",
       "25          2020-01-01 00:18:01  NaN NaN  241.0"
      ]
     },
     "execution_count": 5,
     "metadata": {},
     "output_type": "execute_result"
    }
   ],
   "source": [
    "void_auctions = df_bids.query('(A.isnull() & B.isnull()) | (A.isnull() & C.isnull()) | (B.isnull() & C.isnull())')\n",
    "void_auctions"
   ]
  },
  {
   "cell_type": "markdown",
   "metadata": {},
   "source": [
    "There appear to be auctions where only one bid was placed - this is not allowed in second-price auctions and those instances will be void."
   ]
  },
  {
   "cell_type": "code",
   "execution_count": 6,
   "metadata": {},
   "outputs": [],
   "source": [
    "df_bids.drop(void_auctions.index, axis=0, inplace=True)"
   ]
  },
  {
   "cell_type": "markdown",
   "metadata": {},
   "source": [
    "## Q1.1"
   ]
  },
  {
   "cell_type": "code",
   "execution_count": 7,
   "metadata": {},
   "outputs": [],
   "source": [
    "bidders = ['A', 'B', 'C']"
   ]
  },
  {
   "cell_type": "code",
   "execution_count": 8,
   "metadata": {},
   "outputs": [
    {
     "data": {
      "text/plain": [
       "A    389\n",
       "B    394\n",
       "C    395\n",
       "dtype: int64"
      ]
     },
     "execution_count": 8,
     "metadata": {},
     "output_type": "execute_result"
    }
   ],
   "source": [
    "# get the count of auctions a bidder took part in\n",
    "auction_counts = df_bids[bidders].count()\n",
    "auction_counts"
   ]
  },
  {
   "cell_type": "code",
   "execution_count": 9,
   "metadata": {},
   "outputs": [
    {
     "data": {
      "text/plain": [
       "A     30\n",
       "B     90\n",
       "C    278\n",
       "dtype: int64"
      ]
     },
     "execution_count": 9,
     "metadata": {},
     "output_type": "execute_result"
    }
   ],
   "source": [
    "# get the winner of each auction\n",
    "winners = df_bids[bidders].idxmax(axis=1)\n",
    "win_counts = winners.value_counts().sort_values()\n",
    "win_counts"
   ]
  },
  {
   "cell_type": "code",
   "execution_count": 10,
   "metadata": {},
   "outputs": [
    {
     "name": "stdout",
     "output_type": "stream",
     "text": [
      "Win rate:\n",
      "  Bidder A: 7.71%\n",
      "  Bidder B: 22.84%\n",
      "  Bidder C: 70.38%\n"
     ]
    }
   ],
   "source": [
    "print(\"Win rate:\")\n",
    "# the sum does not add up to 100, as each bidder took part in a different number of auctions\n",
    "for bidder in bidders:\n",
    "    win_rate_perc = win_counts[bidder] / auction_counts[bidder] * 100\n",
    "    print(\"  Bidder %s: %.2f%%\" % (bidder, win_rate_perc))"
   ]
  },
  {
   "cell_type": "markdown",
   "metadata": {},
   "source": [
    "## Q1.2"
   ]
  },
  {
   "cell_type": "code",
   "execution_count": 11,
   "metadata": {},
   "outputs": [
    {
     "data": {
      "text/plain": [
       "auction_id\n",
       "0       6.0\n",
       "1       3.0\n",
       "2       3.0\n",
       "3      12.0\n",
       "4      14.0\n",
       "       ... \n",
       "395     2.0\n",
       "396     9.0\n",
       "397     2.0\n",
       "398     3.0\n",
       "399    17.0\n",
       "Length: 398, dtype: float64"
      ]
     },
     "execution_count": 11,
     "metadata": {},
     "output_type": "execute_result"
    }
   ],
   "source": [
    "# get the price (the second largest value)\n",
    "def get_price_to_pay(bids_dataframe):\n",
    "    return bids_dataframe[bidders].apply(lambda row: row.nlargest(2).values[-1], axis=1)\n",
    "prices_paid = get_price_to_pay(df_bids)\n",
    "prices_paid"
   ]
  },
  {
   "cell_type": "markdown",
   "metadata": {},
   "source": [
    "## Q1.3"
   ]
  },
  {
   "cell_type": "code",
   "execution_count": 12,
   "metadata": {},
   "outputs": [
    {
     "name": "stdout",
     "output_type": "stream",
     "text": [
      "Total revenue: 4186.00\n"
     ]
    }
   ],
   "source": [
    "print(\"Total revenue: %.2f\" % sum(prices_paid))"
   ]
  },
  {
   "cell_type": "markdown",
   "metadata": {},
   "source": [
    "## Q1.4"
   ]
  },
  {
   "cell_type": "markdown",
   "metadata": {},
   "source": [
    "First visualize the raw data..."
   ]
  },
  {
   "cell_type": "code",
   "execution_count": 13,
   "metadata": {},
   "outputs": [
    {
     "data": {
      "image/png": "[encoded data removed]",
      "text/plain": [
       "<Figure size 720x360 with 1 Axes>"
      ]
     },
     "metadata": {
      "needs_background": "light"
     },
     "output_type": "display_data"
    }
   ],
   "source": [
    "fig, ax = plt.subplots(figsize=(10, 5))\n",
    "ax.set_title(\"Auction win price counts\")\n",
    "bars = plt.hist(prices_paid, bins=int(max(prices_paid)+1))\n",
    "plt.xlabel(\"Price\")\n",
    "plt.ylabel(\"Count of occurrences of the win price\")\n",
    "plt.show()"
   ]
  },
  {
   "cell_type": "markdown",
   "metadata": {},
   "source": [
    "To my best knowledge, there does not seem to be to be a simple way to estimate to obtain a probability distribution and its parameters from a sample.\n",
    "\n",
    "From a computer science point of view, the most intuitive approach seems to be trying to fit \"candidate\" distributions with the data I have, evaluate the picks (here using [Kolmogorov-Smirnov test](https://www.tandfonline.com/doi/abs/10.1080/01621459.1951.10500769)) and select the best one."
   ]
  },
  {
   "cell_type": "code",
   "execution_count": 14,
   "metadata": {},
   "outputs": [
    {
     "name": "stdout",
     "output_type": "stream",
     "text": [
      "D for alpha = 0.33613796\n",
      "D for beta = 0.07051271\n",
      "D for chi = 0.09711384\n",
      "D for chi2 = 0.09718584\n",
      "D for genextreme = 0.07633639\n",
      "D for invgamma = 0.07444244\n",
      "D for norm = 0.15436687\n",
      "D for pareto = 0.16447579\n",
      "\n",
      "Best fitting distribution: beta\n",
      "Best D value: 0.07051270810316615\n",
      "Parameters for the best fit:\n",
      "  a = 1.5118025433094977\n",
      "  b = 1086926.3778940248\n",
      "  loc = -0.029873609806954957\n",
      "  scale = 7624803.845521534\n",
      "\n"
     ]
    }
   ],
   "source": [
    "import scipy.stats as st\n",
    "import warnings\n",
    "\n",
    "# ignore warnings from data that can't be fit\n",
    "warnings.filterwarnings('ignore')\n",
    "\n",
    "# Inspired by: https://stackoverflow.com/q/37487830\n",
    "def get_best_distribution(data):\n",
    "    # list of candidate distributions\n",
    "    dist_candidates = [st.alpha, st.beta, st.chi, st.chi2, st.genextreme, st.invgamma, st.norm, st.pareto]\n",
    "    dist_results, dist_params = {}, {}\n",
    "    # try all the candidates\n",
    "    for dist in dist_candidates:\n",
    "        # compute the fit\n",
    "        param = dist.fit(data)\n",
    "        # store parameters\n",
    "        dist_params[dist.name] = param\n",
    "\n",
    "        # evaluate the candidate using Kolmogorov-Smirnov test\n",
    "        # picking the one that minimises D, the test statistic\n",
    "        #   = difference between the sample and the fit\n",
    "        D, p = st.kstest(data, dist.name, args=param)\n",
    "        print(\"D for %s = %.8f\" % (dist.name, D))\n",
    "        dist_results[dist.name] = D\n",
    "\n",
    "    # select the best fitted distribution\n",
    "    best_dist = min(dist_results, key=dist_results.get)\n",
    "\n",
    "    print(\"\\nBest fitting distribution: %s\" % best_dist)\n",
    "    print(\"Best D value: %s\" % dist_results[best_dist])\n",
    "    print(\"Parameters for the best fit:\")\n",
    "    for param, val in zip(['a', 'b', 'loc', 'scale'], dist_params[best_dist]):\n",
    "        print(\"  %s = %s\" % (param, val))\n",
    "    print()\n",
    "    \n",
    "    return best_dist, dist_params[best_dist]\n",
    "\n",
    "dist_name, (a, b, loc, scale) = get_best_distribution(prices_paid)"
   ]
  },
  {
   "cell_type": "markdown",
   "metadata": {},
   "source": [
    "Given the pool of possible distributions (obviously can be extended), the best fitting distribution for the underlying dataset seems to be **Beta distribution** with the **a, b** parameter values above.\n",
    "\n",
    "To test the correctness of the fit, visualize the probability distribution function on normed histogram of the data."
   ]
  },
  {
   "cell_type": "code",
   "execution_count": 15,
   "metadata": {},
   "outputs": [
    {
     "data": {
      "image/png": "[encoded data removed]",
      "text/plain": [
       "<Figure size 864x576 with 1 Axes>"
      ]
     },
     "metadata": {
      "needs_background": "light"
     },
     "output_type": "display_data"
    }
   ],
   "source": [
    "# plot the original histogram\n",
    "bars = plt.hist(prices_paid, bins=int(max(prices_paid)+1), density=True)\n",
    "\n",
    "# make start and end points of distribution\n",
    "start = st.beta.ppf(0.01, a=a, b=b, loc=loc, scale=scale)\n",
    "end = st.beta.ppf(0.99, a=a, b=b, loc=loc, scale=scale)\n",
    "# create 1000 samples, build PDF and turn it into pandas Series\n",
    "x = np.linspace(start, end, 1000)\n",
    "y = st.beta.pdf(x, a=a, b=b, loc=loc, scale=scale)\n",
    "pdf = pd.Series(y, x)\n",
    "# plot the results\n",
    "ax = pdf.plot(lw=3, label='PDF')\n",
    "\n",
    "ax.set_title(\"Auction win price counts\")\n",
    "plt.xlabel(\"Price\")\n",
    "plt.ylabel(\"Frequency occurrences of the win price\")\n",
    "plt.show()"
   ]
  },
  {
   "cell_type": "markdown",
   "metadata": {},
   "source": [
    "## Q1.5"
   ]
  },
  {
   "cell_type": "markdown",
   "metadata": {},
   "source": [
    "There are several ways to look at this problem, all valid depending on the use case."
   ]
  },
  {
   "cell_type": "markdown",
   "metadata": {},
   "source": [
    "Assumming that all bidders are rational, by definition they will never place bids higher than their willingness to pay. And because second-price auctions are sealed-bid type auction, with a risk-neutral approach it is optimal to bid the price equal to one's reservation price - here, the willingness to pay.\n",
    "\n",
    "Therefore, the bidder that has won the most auctions has the highest willingness to pay - here, **bidder 'C'** (#1)."
   ]
  },
  {
   "cell_type": "markdown",
   "metadata": {},
   "source": [
    "It is also valid to consider the cummulative amount of money a bidder has placed on all auctions. Assumming that the most significant auctions are valued the highest, the desire to pay a large amount of money on (several) individual auctions also denotes willingness to pay.\n",
    "\n",
    "Again in this case, **bidder 'C'** has the highest willingness to pay (#2)."
   ]
  },
  {
   "cell_type": "markdown",
   "metadata": {},
   "source": [
    "Lastly, it might be valuable to evaluate the amount of money a bidder has spent on average per an auction won. Higher values signify that a bidder has a high willingness to pay for auctions that are important to them. This could be a valuable indicator when setting up auctions.\n",
    "\n",
    "For that scenario, **bidder 'A'** has the highest willingness to pay (#3).\n"
   ]
  },
  {
   "cell_type": "code",
   "execution_count": 16,
   "metadata": {},
   "outputs": [
    {
     "data": {
      "image/png": "[encoded data removed]",
      "text/plain": [
       "<Figure size 1440x360 with 3 Axes>"
      ]
     },
     "metadata": {
      "needs_background": "light"
     },
     "output_type": "display_data"
    }
   ],
   "source": [
    "fig, ax = plt.subplots(figsize=(20, 5))\n",
    "\n",
    "plt.subplot(1,3,1)\n",
    "plt.title(\"Willingness to pay #1\")\n",
    "plt.bar(bidders, win_counts)\n",
    "plt.xlabel(\"Bidders\")\n",
    "plt.ylabel(\"Auctions won\")\n",
    "\n",
    "plt.subplot(1,3,2)\n",
    "plt.title(\"Willingness to pay #2\")\n",
    "plt.bar(bidders, df_bids[bidders].sum(), color='orange')\n",
    "plt.xlabel(\"Bidders\")\n",
    "plt.ylabel(\"Total sum of bids\")\n",
    "\n",
    "plt.subplot(1,3,3)\n",
    "plt.title(\"Willingness to pay #3\")\n",
    "plt.bar(bidders, df_bids[bidders].sum()/win_counts, color='green')\n",
    "plt.xlabel(\"Bidders\")\n",
    "plt.ylabel(\"Bid per auction won\")\n",
    "\n",
    "plt.show()"
   ]
  },
  {
   "cell_type": "markdown",
   "metadata": {},
   "source": [
    "## Q1.6"
   ]
  },
  {
   "cell_type": "code",
   "execution_count": 17,
   "metadata": {},
   "outputs": [
    {
     "data": {
      "image/png": "[encoded data removed]",
      "text/plain": [
       "<Figure size 1440x360 with 1 Axes>"
      ]
     },
     "metadata": {
      "needs_background": "light"
     },
     "output_type": "display_data"
    }
   ],
   "source": [
    "fig, ax = plt.subplots(figsize=(20, 5))\n",
    "plt.title(\"Price paid by auction winner\")\n",
    "plt.plot(pd.to_datetime(df_bids['time']), prices_paid)\n",
    "plt.xlabel(\"Time\")\n",
    "ax.xaxis.set_major_locator(mdates.MinuteLocator(byminute=[0,15,30,45], interval=1))\n",
    "ax.xaxis.set_major_formatter(mdates.DateFormatter('%H:%M')) \n",
    "plt.ylabel(\"Price\")\n",
    "plt.show()"
   ]
  },
  {
   "cell_type": "markdown",
   "metadata": {},
   "source": [
    "# Část 2 - online aukce\n",
    "\n",
    "V aukcích internetové reklamy jsou účastníci aukce inzerenti, dražený objekt je reklamní prostor a prodejcem je vlastník reklamního prostoru. Inzerenti soutěží o zobrazení své reklamy v reklamním prostoru a platí pouze tehdy, když je jejich reklama zobrazena a návštěvník internetové stránky na ni klikne. Proto se v online aukcích výherce neurčuje pouze podle nabízené ceny, ale podle násobku nabízené ceny a pravděpodobnosti prokliku.\n",
    "\n",
    "Načtěte soubor “factors_train.csv”, který obsahuje historická data o odhadech pravděpodobností prokliku a faktorech, které tuto pravděpodobnost ovlivňují. Sloupec “click” říká, jestli daná reklama obdržela klik nebo ne. U kandidátů, kteří prohráli v aukci, je automaticky 0. Výherce aukce se potom zobrazí v reklamním prostoru, ale i tak dostane klik jen s určitou pravděpodobností.\n",
    "\n",
    "1. Jaké vlivy podle Vás zachycují faktory 1 a 2?\n",
    "2. Spojte tato data s daty o nabízených cenách. Pro každou aukci a každého účastníka\n",
    "spočítejte *online bid = nabízená cena * pravděpodobnost prokliku*.\n",
    "\n",
    "3. Určete výherce každé aukce, tentokrát podle online bidu. Spočítejte, v kolika\n",
    "procentech případů vyhrál každý nabízející. Jak se tyto poměry změnily oproti předchozímu případu, kdy jsme uvažovali jen nabízenou cenu? Čím může být rozdíl způsoben?\n",
    "\n",
    "4. V online aukcích se cena, kterou má zaplatit výherce aukce, počítá podle následujícího pravidla:\n",
    "\n",
    "p.p. = pravděpodobnost prokliku\n",
    "\n",
    "konečná cena za proklik = *p.p. druhého v pořadí děleno p.p. prvního v pořadí krát nabízená cena druhého*\n",
    "\n",
    "Tuto cenu platí výherce pouze tehdy, pokud získal i klik. Můžete si všimnout, že\n",
    "finální cena nezávisí na nabízené ceně daného inzerenta.\n",
    "\n",
    "5. Spočítejte celkový výnos z aukce."
   ]
  },
  {
   "cell_type": "code",
   "execution_count": 18,
   "metadata": {},
   "outputs": [
    {
     "data": {
      "text/html": [
       "<div>\n",
       "<style scoped>\n",
       "    .dataframe tbody tr th:only-of-type {\n",
       "        vertical-align: middle;\n",
       "    }\n",
       "\n",
       "    .dataframe tbody tr th {\n",
       "        vertical-align: top;\n",
       "    }\n",
       "\n",
       "    .dataframe thead th {\n",
       "        text-align: right;\n",
       "    }\n",
       "</style>\n",
       "<table border=\"1\" class=\"dataframe\">\n",
       "  <thead>\n",
       "    <tr style=\"text-align: right;\">\n",
       "      <th></th>\n",
       "      <th>auction_id</th>\n",
       "      <th>factor_1</th>\n",
       "      <th>factor_2</th>\n",
       "      <th>prob</th>\n",
       "      <th>click</th>\n",
       "    </tr>\n",
       "  </thead>\n",
       "  <tbody>\n",
       "    <tr>\n",
       "      <th>count</th>\n",
       "      <td>1180.000000</td>\n",
       "      <td>1180.000000</td>\n",
       "      <td>1180.000000</td>\n",
       "      <td>1180.000000</td>\n",
       "      <td>1180.000000</td>\n",
       "    </tr>\n",
       "    <tr>\n",
       "      <th>mean</th>\n",
       "      <td>202.150847</td>\n",
       "      <td>2.047663</td>\n",
       "      <td>10.404264</td>\n",
       "      <td>0.010204</td>\n",
       "      <td>0.005932</td>\n",
       "    </tr>\n",
       "    <tr>\n",
       "      <th>std</th>\n",
       "      <td>114.613875</td>\n",
       "      <td>1.275833</td>\n",
       "      <td>0.766588</td>\n",
       "      <td>0.021201</td>\n",
       "      <td>0.076825</td>\n",
       "    </tr>\n",
       "    <tr>\n",
       "      <th>min</th>\n",
       "      <td>0.000000</td>\n",
       "      <td>-1.834772</td>\n",
       "      <td>8.046086</td>\n",
       "      <td>0.000080</td>\n",
       "      <td>0.000000</td>\n",
       "    </tr>\n",
       "    <tr>\n",
       "      <th>25%</th>\n",
       "      <td>104.750000</td>\n",
       "      <td>1.191992</td>\n",
       "      <td>9.886013</td>\n",
       "      <td>0.001731</td>\n",
       "      <td>0.000000</td>\n",
       "    </tr>\n",
       "    <tr>\n",
       "      <th>50%</th>\n",
       "      <td>203.000000</td>\n",
       "      <td>1.978507</td>\n",
       "      <td>10.467145</td>\n",
       "      <td>0.004269</td>\n",
       "      <td>0.000000</td>\n",
       "    </tr>\n",
       "    <tr>\n",
       "      <th>75%</th>\n",
       "      <td>301.000000</td>\n",
       "      <td>2.945106</td>\n",
       "      <td>10.934544</td>\n",
       "      <td>0.010586</td>\n",
       "      <td>0.000000</td>\n",
       "    </tr>\n",
       "    <tr>\n",
       "      <th>max</th>\n",
       "      <td>399.000000</td>\n",
       "      <td>6.149047</td>\n",
       "      <td>12.968965</td>\n",
       "      <td>0.416378</td>\n",
       "      <td>1.000000</td>\n",
       "    </tr>\n",
       "  </tbody>\n",
       "</table>\n",
       "</div>"
      ],
      "text/plain": [
       "        auction_id     factor_1     factor_2         prob        click\n",
       "count  1180.000000  1180.000000  1180.000000  1180.000000  1180.000000\n",
       "mean    202.150847     2.047663    10.404264     0.010204     0.005932\n",
       "std     114.613875     1.275833     0.766588     0.021201     0.076825\n",
       "min       0.000000    -1.834772     8.046086     0.000080     0.000000\n",
       "25%     104.750000     1.191992     9.886013     0.001731     0.000000\n",
       "50%     203.000000     1.978507    10.467145     0.004269     0.000000\n",
       "75%     301.000000     2.945106    10.934544     0.010586     0.000000\n",
       "max     399.000000     6.149047    12.968965     0.416378     1.000000"
      ]
     },
     "execution_count": 18,
     "metadata": {},
     "output_type": "execute_result"
    }
   ],
   "source": [
    "df_factors = pd.read_csv(\"./factors_train.csv\")\n",
    "df_factors.describe()"
   ]
  },
  {
   "cell_type": "markdown",
   "metadata": {},
   "source": [
    "## Q2.1"
   ]
  },
  {
   "cell_type": "markdown",
   "metadata": {},
   "source": [
    "The are many factors affecting how per-click bids are weighted. For example with textual ads, ads that have a bid on a keyword go to \"auction\" once the keyword is searched and try to rank higher than the other competitors based on relevancy and user-experience."
   ]
  },
  {
   "cell_type": "code",
   "execution_count": 19,
   "metadata": {},
   "outputs": [
    {
     "data": {
      "image/png": "[encoded data removed]",
      "text/plain": [
       "<Figure size 1440x360 with 2 Axes>"
      ]
     },
     "metadata": {
      "needs_background": "light"
     },
     "output_type": "display_data"
    }
   ],
   "source": [
    "fig, ax = plt.subplots(figsize=(20, 5))\n",
    "\n",
    "plt.subplot(1,2,1)\n",
    "plt.title(\"factor_1 distribution\")\n",
    "plt.hist(df_factors['factor_1'], bins=100)\n",
    "\n",
    "plt.subplot(1,2,2)\n",
    "plt.title(\"factor_2 distribution\")\n",
    "plt.hist(df_factors['factor_2'], bins=100, color='orange')\n",
    "plt.show()"
   ]
  },
  {
   "cell_type": "markdown",
   "metadata": {},
   "source": [
    "Factors are determined by specific strategy of the advertising platform. The overall price is then a combination of such factors and how the competitors perform. `factor_1` and `factor_2` can then represent many platform-specific indicators, such as:\n",
    "\n",
    "* ad text\n",
    "* keywords (relevance, quality)\n",
    "* landing page (relevance, quality)\n",
    "* bid placed\n",
    "* maximum bid\n",
    "* target demographics\n",
    "* seasonality\n",
    "\n",
    "Given the distribution of `factor_1` and higher standard deviation, this could perhaps be the indicator for the **relevance of the ad text**, as there is might a higher variation in the possible ad text combinations and their fit for the auction. In terms of `factor_2`, it might indicate a more constrained variable, given the smaller variation in the set of values, perhaps the **keywords quality**."
   ]
  },
  {
   "cell_type": "markdown",
   "metadata": {},
   "source": [
    "## Q2.2"
   ]
  },
  {
   "cell_type": "markdown",
   "metadata": {},
   "source": [
    "Get click probabilities of each bidder for each `auction_id` in one nice dataframe."
   ]
  },
  {
   "cell_type": "code",
   "execution_count": 20,
   "metadata": {},
   "outputs": [],
   "source": [
    "def get_click_probs(factors_dataframe, void_auctions_ids=None):\n",
    "    def get_bidder_prob(frame, bidder_id):\n",
    "        bidder_prob = frame[frame['bidder_id'] == bidder_id][['auction_id', 'prob']]\n",
    "        bidder_prob.index = bidder_prob.auction_id\n",
    "        bidder_prob.drop(\"auction_id\", axis=1, inplace=True)\n",
    "        bidder_prob.rename(columns={'prob': bidder_id}, inplace=True)\n",
    "        return bidder_prob\n",
    "\n",
    "    click_probs = pd.concat([get_bidder_prob(factors_dataframe, bidder) for bidder in bidders], axis=1)\n",
    "    \n",
    "    if void_auctions_ids is not None:\n",
    "        # drop the illegal rows identified in df_bids\n",
    "        click_probs.drop(void_auctions_ids, axis=0, inplace=True)\n",
    "        \n",
    "    return click_probs\n",
    "\n",
    "click_probs = get_click_probs(df_factors, void_auctions_ids=void_auctions.index)\n",
    "# sanity check\n",
    "pd.testing.assert_series_equal(auction_counts, click_probs.count())"
   ]
  },
  {
   "cell_type": "code",
   "execution_count": 21,
   "metadata": {},
   "outputs": [
    {
     "data": {
      "text/html": [
       "<div>\n",
       "<style scoped>\n",
       "    .dataframe tbody tr th:only-of-type {\n",
       "        vertical-align: middle;\n",
       "    }\n",
       "\n",
       "    .dataframe tbody tr th {\n",
       "        vertical-align: top;\n",
       "    }\n",
       "\n",
       "    .dataframe thead th {\n",
       "        text-align: right;\n",
       "    }\n",
       "</style>\n",
       "<table border=\"1\" class=\"dataframe\">\n",
       "  <thead>\n",
       "    <tr style=\"text-align: right;\">\n",
       "      <th></th>\n",
       "      <th>A</th>\n",
       "      <th>B</th>\n",
       "      <th>C</th>\n",
       "    </tr>\n",
       "    <tr>\n",
       "      <th>auction_id</th>\n",
       "      <th></th>\n",
       "      <th></th>\n",
       "      <th></th>\n",
       "    </tr>\n",
       "  </thead>\n",
       "  <tbody>\n",
       "    <tr>\n",
       "      <th>0</th>\n",
       "      <td>0.002670</td>\n",
       "      <td>0.000000</td>\n",
       "      <td>0.102121</td>\n",
       "    </tr>\n",
       "    <tr>\n",
       "      <th>1</th>\n",
       "      <td>0.064562</td>\n",
       "      <td>0.004892</td>\n",
       "      <td>0.049921</td>\n",
       "    </tr>\n",
       "    <tr>\n",
       "      <th>2</th>\n",
       "      <td>0.005545</td>\n",
       "      <td>0.039800</td>\n",
       "      <td>0.007864</td>\n",
       "    </tr>\n",
       "    <tr>\n",
       "      <th>3</th>\n",
       "      <td>0.076420</td>\n",
       "      <td>1.185770</td>\n",
       "      <td>0.014081</td>\n",
       "    </tr>\n",
       "    <tr>\n",
       "      <th>4</th>\n",
       "      <td>0.193012</td>\n",
       "      <td>0.014160</td>\n",
       "      <td>0.065772</td>\n",
       "    </tr>\n",
       "    <tr>\n",
       "      <th>...</th>\n",
       "      <td>...</td>\n",
       "      <td>...</td>\n",
       "      <td>...</td>\n",
       "    </tr>\n",
       "    <tr>\n",
       "      <th>395</th>\n",
       "      <td>0.011547</td>\n",
       "      <td>0.006289</td>\n",
       "      <td>0.017397</td>\n",
       "    </tr>\n",
       "    <tr>\n",
       "      <th>396</th>\n",
       "      <td>0.053928</td>\n",
       "      <td>0.001671</td>\n",
       "      <td>0.012543</td>\n",
       "    </tr>\n",
       "    <tr>\n",
       "      <th>397</th>\n",
       "      <td>0.002689</td>\n",
       "      <td>0.013756</td>\n",
       "      <td>0.001857</td>\n",
       "    </tr>\n",
       "    <tr>\n",
       "      <th>398</th>\n",
       "      <td>0.014797</td>\n",
       "      <td>0.005632</td>\n",
       "      <td>0.006390</td>\n",
       "    </tr>\n",
       "    <tr>\n",
       "      <th>399</th>\n",
       "      <td>0.037893</td>\n",
       "      <td>0.017987</td>\n",
       "      <td>0.023249</td>\n",
       "    </tr>\n",
       "  </tbody>\n",
       "</table>\n",
       "<p>398 rows × 3 columns</p>\n",
       "</div>"
      ],
      "text/plain": [
       "                   A         B         C\n",
       "auction_id                              \n",
       "0           0.002670  0.000000  0.102121\n",
       "1           0.064562  0.004892  0.049921\n",
       "2           0.005545  0.039800  0.007864\n",
       "3           0.076420  1.185770  0.014081\n",
       "4           0.193012  0.014160  0.065772\n",
       "...              ...       ...       ...\n",
       "395         0.011547  0.006289  0.017397\n",
       "396         0.053928  0.001671  0.012543\n",
       "397         0.002689  0.013756  0.001857\n",
       "398         0.014797  0.005632  0.006390\n",
       "399         0.037893  0.017987  0.023249\n",
       "\n",
       "[398 rows x 3 columns]"
      ]
     },
     "execution_count": 21,
     "metadata": {},
     "output_type": "execute_result"
    }
   ],
   "source": [
    "online_bids = click_probs * df_bids[bidders]\n",
    "online_bids"
   ]
  },
  {
   "cell_type": "markdown",
   "metadata": {},
   "source": [
    "## Q2.3"
   ]
  },
  {
   "cell_type": "code",
   "execution_count": 22,
   "metadata": {},
   "outputs": [
    {
     "data": {
      "text/plain": [
       "A    108\n",
       "B    134\n",
       "C    156\n",
       "dtype: int64"
      ]
     },
     "execution_count": 22,
     "metadata": {},
     "output_type": "execute_result"
    }
   ],
   "source": [
    "# get the winner of each auction\n",
    "online_winners = online_bids[bidders].idxmax(axis=1)\n",
    "online_win_counts = online_winners.value_counts().sort_values()\n",
    "online_win_counts"
   ]
  },
  {
   "cell_type": "code",
   "execution_count": 23,
   "metadata": {},
   "outputs": [
    {
     "name": "stdout",
     "output_type": "stream",
     "text": [
      "Online win rate:\n",
      "  Bidder A: 27.76%\n",
      "  Bidder B: 34.01%\n",
      "  Bidder C: 39.49%\n"
     ]
    }
   ],
   "source": [
    "print(\"Online win rate:\")\n",
    "# he sum does not add up to 100, as each bidder took part in a different number of auctions\n",
    "for bidder in bidders:\n",
    "    win_rate_perc = online_win_counts[bidder] / auction_counts[bidder] * 100\n",
    "    print(\"  Bidder %s: %.2f%%\" % (bidder, win_rate_perc))"
   ]
  },
  {
   "cell_type": "markdown",
   "metadata": {},
   "source": [
    "When comparing with the results of second-price auctions, we can see that the percentual win rates of the bidder are now much more similar. To help explain the difference, we can perhaps have a look at Willingness to Pay charts 2 & 3 from [question 1.5](##-Q1.5).\n",
    "\n",
    "Here we can see that bidder C, who has won 70%+ of second-price auctions has by far spent the most money bidding (cummulatively). Given the format, their overbidding secured them the win in majority of the cases, without having to actually pay the bid. This might indicate that bidder C correctly identified the behaviour of competitors in second-price auctions.\n",
    "\n",
    "However, since the format is different here, other factors now determine the winner of the auction. While the strategy paid off for bidder C previously, for this format, the roles have actually reversed. Now, despite still having won the most auctions, the average price paid for an auction won here is almost three time the one of bidder A, yet with a win rate only ~12% higher."
   ]
  },
  {
   "cell_type": "code",
   "execution_count": 24,
   "metadata": {},
   "outputs": [
    {
     "data": {
      "image/png": "[encoded data removed]",
      "text/plain": [
       "<Figure size 360x360 with 1 Axes>"
      ]
     },
     "metadata": {
      "needs_background": "light"
     },
     "output_type": "display_data"
    }
   ],
   "source": [
    "plt.subplots(figsize=(5, 5))\n",
    "plt.bar(bidders, df_bids[bidders].sum()/online_win_counts, color='green')\n",
    "plt.xlabel(\"Bidders\")\n",
    "plt.ylabel(\"Bid per auction won\")\n",
    "\n",
    "plt.show()"
   ]
  },
  {
   "cell_type": "markdown",
   "metadata": {},
   "source": [
    "## Q2.4"
   ]
  },
  {
   "cell_type": "markdown",
   "metadata": {},
   "source": [
    "Formula for the price of a click in an online auction:\n",
    "\n",
    "$click\\ price = \\frac{2^{nd}\\ place\\ click\\ proba}{1^{st}\\ place\\ click\\ proba} * 2^{nd}\\ place\\ bid$"
   ]
  },
  {
   "cell_type": "code",
   "execution_count": 25,
   "metadata": {},
   "outputs": [
    {
     "data": {
      "text/plain": [
       "auction_id\n",
       "0       0.810394\n",
       "1       2.253960\n",
       "2      35.426544\n",
       "3       2.006868\n",
       "4      96.840329\n",
       "         ...    \n",
       "395    16.593144\n",
       "396    51.593046\n",
       "397     1.350031\n",
       "398     8.813160\n",
       "399    27.079390\n",
       "Length: 398, dtype: float64"
      ]
     },
     "execution_count": 25,
     "metadata": {},
     "output_type": "execute_result"
    }
   ],
   "source": [
    "def get_click_price(bids_dataframe, factors_dataframe, void_auctions_ids=None):\n",
    "    # get the winners and runner-ups of each auction\n",
    "    first_places = bids_dataframe[bidders].apply(lambda x: x.nlargest(1).idxmin(), axis=1)\n",
    "    second_places = bids_dataframe[bidders].apply(lambda x: x.nlargest(2).idxmin(), axis=1)\n",
    "    # get the bid of the runner-ups (i.e. second-price auction prices)\n",
    "    second_places_bid = get_price_to_pay(bids_dataframe)\n",
    "    # get the click probability of winners and runner-ups in each auction\n",
    "    click_probs = get_click_probs(factors_dataframe, void_auctions_ids)\n",
    "    first_places_probs = click_probs.lookup(click_probs.index, first_places)\n",
    "    second_places_probs = click_probs.lookup(click_probs.index, second_places)\n",
    "    # compute the formula\n",
    "    return second_places_probs / first_places_probs * second_places_bid\n",
    "    \n",
    "click_prices = get_click_price(df_bids, df_factors, void_auctions_ids=void_auctions.index)\n",
    "click_prices"
   ]
  },
  {
   "cell_type": "markdown",
   "metadata": {},
   "source": [
    "## Q2.5"
   ]
  },
  {
   "cell_type": "markdown",
   "metadata": {},
   "source": [
    "A bidder only pays for an auction if it received a click. Therefore, the total revenue of the advertising platform is computed only from the auctions that received a click."
   ]
  },
  {
   "cell_type": "code",
   "execution_count": 26,
   "metadata": {},
   "outputs": [
    {
     "data": {
      "text/html": [
       "<div>\n",
       "<style scoped>\n",
       "    .dataframe tbody tr th:only-of-type {\n",
       "        vertical-align: middle;\n",
       "    }\n",
       "\n",
       "    .dataframe tbody tr th {\n",
       "        vertical-align: top;\n",
       "    }\n",
       "\n",
       "    .dataframe thead th {\n",
       "        text-align: right;\n",
       "    }\n",
       "</style>\n",
       "<table border=\"1\" class=\"dataframe\">\n",
       "  <thead>\n",
       "    <tr style=\"text-align: right;\">\n",
       "      <th></th>\n",
       "      <th>auction_id</th>\n",
       "      <th>bidder_id</th>\n",
       "      <th>time</th>\n",
       "      <th>factor_1</th>\n",
       "      <th>factor_2</th>\n",
       "      <th>prob</th>\n",
       "      <th>click</th>\n",
       "    </tr>\n",
       "  </thead>\n",
       "  <tbody>\n",
       "    <tr>\n",
       "      <th>115</th>\n",
       "      <td>42</td>\n",
       "      <td>A</td>\n",
       "      <td>2020-01-01 00:30:15</td>\n",
       "      <td>2.272395</td>\n",
       "      <td>10.412868</td>\n",
       "      <td>0.041497</td>\n",
       "      <td>1.0</td>\n",
       "    </tr>\n",
       "    <tr>\n",
       "      <th>362</th>\n",
       "      <td>127</td>\n",
       "      <td>B</td>\n",
       "      <td>2020-01-01 01:31:29</td>\n",
       "      <td>2.813895</td>\n",
       "      <td>11.384459</td>\n",
       "      <td>0.049545</td>\n",
       "      <td>1.0</td>\n",
       "    </tr>\n",
       "    <tr>\n",
       "      <th>396</th>\n",
       "      <td>138</td>\n",
       "      <td>C</td>\n",
       "      <td>2020-01-01 01:39:25</td>\n",
       "      <td>2.065812</td>\n",
       "      <td>10.505335</td>\n",
       "      <td>0.034759</td>\n",
       "      <td>1.0</td>\n",
       "    </tr>\n",
       "    <tr>\n",
       "      <th>565</th>\n",
       "      <td>195</td>\n",
       "      <td>A</td>\n",
       "      <td>2020-01-01 02:20:28</td>\n",
       "      <td>3.133862</td>\n",
       "      <td>9.737248</td>\n",
       "      <td>0.077589</td>\n",
       "      <td>1.0</td>\n",
       "    </tr>\n",
       "    <tr>\n",
       "      <th>753</th>\n",
       "      <td>257</td>\n",
       "      <td>C</td>\n",
       "      <td>2020-01-01 03:05:08</td>\n",
       "      <td>1.192076</td>\n",
       "      <td>11.553206</td>\n",
       "      <td>0.013200</td>\n",
       "      <td>1.0</td>\n",
       "    </tr>\n",
       "    <tr>\n",
       "      <th>800</th>\n",
       "      <td>273</td>\n",
       "      <td>B</td>\n",
       "      <td>2020-01-01 03:16:39</td>\n",
       "      <td>3.859351</td>\n",
       "      <td>9.549556</td>\n",
       "      <td>0.115028</td>\n",
       "      <td>1.0</td>\n",
       "    </tr>\n",
       "    <tr>\n",
       "      <th>979</th>\n",
       "      <td>333</td>\n",
       "      <td>A</td>\n",
       "      <td>2020-01-01 03:59:53</td>\n",
       "      <td>4.325153</td>\n",
       "      <td>10.510823</td>\n",
       "      <td>0.121772</td>\n",
       "      <td>1.0</td>\n",
       "    </tr>\n",
       "  </tbody>\n",
       "</table>\n",
       "</div>"
      ],
      "text/plain": [
       "     auction_id bidder_id                 time  factor_1   factor_2      prob  \\\n",
       "115          42         A  2020-01-01 00:30:15  2.272395  10.412868  0.041497   \n",
       "362         127         B  2020-01-01 01:31:29  2.813895  11.384459  0.049545   \n",
       "396         138         C  2020-01-01 01:39:25  2.065812  10.505335  0.034759   \n",
       "565         195         A  2020-01-01 02:20:28  3.133862   9.737248  0.077589   \n",
       "753         257         C  2020-01-01 03:05:08  1.192076  11.553206  0.013200   \n",
       "800         273         B  2020-01-01 03:16:39  3.859351   9.549556  0.115028   \n",
       "979         333         A  2020-01-01 03:59:53  4.325153  10.510823  0.121772   \n",
       "\n",
       "     click  \n",
       "115    1.0  \n",
       "362    1.0  \n",
       "396    1.0  \n",
       "565    1.0  \n",
       "753    1.0  \n",
       "800    1.0  \n",
       "979    1.0  "
      ]
     },
     "execution_count": 26,
     "metadata": {},
     "output_type": "execute_result"
    }
   ],
   "source": [
    "df_factors[df_factors.click == 1]"
   ]
  },
  {
   "cell_type": "code",
   "execution_count": 27,
   "metadata": {},
   "outputs": [
    {
     "name": "stdout",
     "output_type": "stream",
     "text": [
      "Total revenue: 197.17\n"
     ]
    }
   ],
   "source": [
    "# sanity check that the online winners computed correspond with the ones in the given df\n",
    "successful_auction_ids = df_factors[df_factors.click == 1].auction_id\n",
    "successful_bidder_ids = df_factors[df_factors.click == 1].bidder_id\n",
    "np.testing.assert_array_equal(online_winners[successful_auction_ids].to_numpy(),\n",
    "                              successful_bidder_ids.to_numpy())\n",
    "\n",
    "print(\"Total revenue: %.2f\" % sum(click_prices[successful_auction_ids]))"
   ]
  },
  {
   "cell_type": "markdown",
   "metadata": {},
   "source": [
    "# Část 3 - model\n",
    "\n",
    "V určitých fázích projektu může být úkolem výzkumníků vytvořit model, který bude řešit nějakou produktovou potřebu. Takový model musí být výzkumník schopen definovat, natrénovat, vyhodnotit a aplikovat.\n",
    "Za použití dat ze souboru `factors_train.csv`:\n",
    "\n",
    "1. Formulujte a odhadněte model predikce pravděpodobnosti prokliku (label = “prob”). Reportujte údaje o modelu - odhadovaná rovnice, odhadnuté parametry.\n",
    "\n",
    "2. Formulujte a odhadněte model predikce kliku na reklamu, pokud je reklama zobrazena resp. vyhrála aukci (label = “click”). Reportujte údaje o modelu - odhadovaná rovnice, odhadnuté parametry.\n",
    "\n",
    "    2.1. Vyhodnoťte kvalitu modelu (přesnost predikce kliku)\n",
    "\n",
    "3. Načtěte soubory “bids_test.csv” a “factors_test.csv”, které obsahují podobná data, nicméně tentokrát bez odhadnutých pravděpodobností prokliku.\n",
    "    \n",
    "    3.1. Použijte model odhadnutý v bodu 2. (?**1.**?) k predikci pravděpodobnosti prokliku.\n",
    "    \n",
    "    3.2. Jaký je očekávaný celkový výnos z těchto nových aukcí?\n",
    "\n",
    "4. Vyhodnoťte kvalitu modelu na datovém souboru “factors_test.csv”, porovnejte ji vůči výsledku z bodu 2.1. a výsledky zkuste interpretovat."
   ]
  },
  {
   "cell_type": "code",
   "execution_count": 28,
   "metadata": {},
   "outputs": [
    {
     "data": {
      "text/html": [
       "<div>\n",
       "<style scoped>\n",
       "    .dataframe tbody tr th:only-of-type {\n",
       "        vertical-align: middle;\n",
       "    }\n",
       "\n",
       "    .dataframe tbody tr th {\n",
       "        vertical-align: top;\n",
       "    }\n",
       "\n",
       "    .dataframe thead th {\n",
       "        text-align: right;\n",
       "    }\n",
       "</style>\n",
       "<table border=\"1\" class=\"dataframe\">\n",
       "  <thead>\n",
       "    <tr style=\"text-align: right;\">\n",
       "      <th></th>\n",
       "      <th>auction_id</th>\n",
       "      <th>bidder_id</th>\n",
       "      <th>time</th>\n",
       "      <th>factor_1</th>\n",
       "      <th>factor_2</th>\n",
       "      <th>prob</th>\n",
       "      <th>click</th>\n",
       "    </tr>\n",
       "  </thead>\n",
       "  <tbody>\n",
       "    <tr>\n",
       "      <th>0</th>\n",
       "      <td>0</td>\n",
       "      <td>A</td>\n",
       "      <td>2020-01-01 00:00:00</td>\n",
       "      <td>3.133335</td>\n",
       "      <td>9.753830</td>\n",
       "      <td>0.000445</td>\n",
       "      <td>0.0</td>\n",
       "    </tr>\n",
       "    <tr>\n",
       "      <th>1</th>\n",
       "      <td>0</td>\n",
       "      <td>B</td>\n",
       "      <td>2020-01-01 00:00:00</td>\n",
       "      <td>1.665116</td>\n",
       "      <td>9.709080</td>\n",
       "      <td>0.001695</td>\n",
       "      <td>0.0</td>\n",
       "    </tr>\n",
       "    <tr>\n",
       "      <th>2</th>\n",
       "      <td>0</td>\n",
       "      <td>C</td>\n",
       "      <td>2020-01-01 00:00:00</td>\n",
       "      <td>0.903419</td>\n",
       "      <td>9.632183</td>\n",
       "      <td>0.003294</td>\n",
       "      <td>0.0</td>\n",
       "    </tr>\n",
       "    <tr>\n",
       "      <th>3</th>\n",
       "      <td>1</td>\n",
       "      <td>A</td>\n",
       "      <td>2020-01-01 00:00:43</td>\n",
       "      <td>5.409922</td>\n",
       "      <td>9.305300</td>\n",
       "      <td>0.064562</td>\n",
       "      <td>0.0</td>\n",
       "    </tr>\n",
       "    <tr>\n",
       "      <th>4</th>\n",
       "      <td>1</td>\n",
       "      <td>B</td>\n",
       "      <td>2020-01-01 00:00:43</td>\n",
       "      <td>1.696985</td>\n",
       "      <td>9.155841</td>\n",
       "      <td>0.001631</td>\n",
       "      <td>0.0</td>\n",
       "    </tr>\n",
       "  </tbody>\n",
       "</table>\n",
       "</div>"
      ],
      "text/plain": [
       "   auction_id bidder_id                 time  factor_1  factor_2      prob  \\\n",
       "0           0         A  2020-01-01 00:00:00  3.133335  9.753830  0.000445   \n",
       "1           0         B  2020-01-01 00:00:00  1.665116  9.709080  0.001695   \n",
       "2           0         C  2020-01-01 00:00:00  0.903419  9.632183  0.003294   \n",
       "3           1         A  2020-01-01 00:00:43  5.409922  9.305300  0.064562   \n",
       "4           1         B  2020-01-01 00:00:43  1.696985  9.155841  0.001631   \n",
       "\n",
       "   click  \n",
       "0    0.0  \n",
       "1    0.0  \n",
       "2    0.0  \n",
       "3    0.0  \n",
       "4    0.0  "
      ]
     },
     "execution_count": 28,
     "metadata": {},
     "output_type": "execute_result"
    }
   ],
   "source": [
    "df_factors.head()"
   ]
  },
  {
   "cell_type": "markdown",
   "metadata": {},
   "source": [
    "## Q3.1"
   ]
  },
  {
   "cell_type": "markdown",
   "metadata": {},
   "source": [
    "**Approach: Linear regression** (with multiple predictors Multiple linear regression).\n",
    "\n",
    "There are some assumptions that must be met to obtain a quality model.\n",
    "\n",
    "1. Multicollinearity: Verifies that predictors are not correlated with each other;\n",
    "2. Linearity: Assumes that there is a linear relationship between the predictors and the response variable;\n",
    "3. Normality: Assumes that the error terms (residuals) are normally distributed;\n",
    "4. Homoscedasticity: Assumes that the errors exhibit constant variance."
   ]
  },
  {
   "cell_type": "code",
   "execution_count": 30,
   "metadata": {},
   "outputs": [],
   "source": [
    "import seaborn as sns\n",
    "from sklearn.model_selection import train_test_split, GridSearchCV\n",
    "from sklearn.dummy import DummyRegressor\n",
    "from sklearn.linear_model import LinearRegression\n",
    "from sklearn.ensemble import RandomForestClassifier\n",
    "from sklearn.neighbors import KernelDensity\n",
    "from sklearn.preprocessing import StandardScaler, normalize\n",
    "from sklearn.metrics import mean_squared_error, mean_absolute_error, r2_score, roc_auc_score, f1_score, confusion_matrix\n",
    "from sklearn.utils.class_weight import compute_class_weight\n",
    "from scipy.stats import zscore\n",
    "from statsmodels.stats.diagnostic import normal_ad"
   ]
  },
  {
   "cell_type": "code",
   "execution_count": 31,
   "metadata": {},
   "outputs": [],
   "source": [
    "# all features identified that might be useful (+ label)\n",
    "XY_names = ['bidder_id', 'factor_1', 'factor_2'] + ['prob']\n",
    "dataset = df_factors[XY_names]\n",
    "# onehot-encode bidders\n",
    "dataset = pd.get_dummies(dataset, columns=['bidder_id'], prefix='bidder')"
   ]
  },
  {
   "cell_type": "code",
   "execution_count": 32,
   "metadata": {},
   "outputs": [
    {
     "name": "stdout",
     "output_type": "stream",
     "text": [
      "Assumption - Little to no multicollinearity among predictors:\n"
     ]
    },
    {
     "data": {
      "image/png": "[encoded data removed]",
      "text/plain": [
       "<Figure size 432x360 with 2 Axes>"
      ]
     },
     "metadata": {
      "needs_background": "light"
     },
     "output_type": "display_data"
    }
   ],
   "source": [
    "# Multicollinearity assumption check\n",
    "def multicollinearity_assumption(features, feature_names=None):\n",
    "    print('Assumption - Little to no multicollinearity among predictors:')\n",
    "        \n",
    "    # Plotting the heatmap\n",
    "    plt.figure(figsize=(6, 5))\n",
    "    sns.heatmap(pd.DataFrame(features, columns=feature_names).corr(), annot=True)\n",
    "    plt.title('Correlation of Variables')\n",
    "    plt.show()\n",
    "    \n",
    "multicollinearity_assumption(dataset, ['factor_1', 'factor_2', 'bidder_A', 'bidder_B', 'bidder_C'])"
   ]
  },
  {
   "cell_type": "markdown",
   "metadata": {},
   "source": [
    "There seems to be a correlation between the one-hot encoded predictors. This is common for categorical variables. There also seems to be a correlation among `bidder_A & factor_1`, and `bidder_C & factor_1`. More checks could be done, but removing one-hot encoded predictors has not negatively impacted the performance of the model later..."
   ]
  },
  {
   "cell_type": "code",
   "execution_count": 33,
   "metadata": {},
   "outputs": [
    {
     "name": "stdout",
     "output_type": "stream",
     "text": [
      "Assumption - Little to no multicollinearity among predictors:\n"
     ]
    },
    {
     "data": {
      "image/png": "[encoded data removed]",
      "text/plain": [
       "<Figure size 432x360 with 2 Axes>"
      ]
     },
     "metadata": {
      "needs_background": "light"
     },
     "output_type": "display_data"
    }
   ],
   "source": [
    "# remaining features (+ label)\n",
    "XY_names = ['factor_1', 'factor_2', 'prob']\n",
    "dataset = df_factors[XY_names]\n",
    "multicollinearity_assumption(dataset, ['factor_1', 'factor_2'])"
   ]
  },
  {
   "cell_type": "code",
   "execution_count": 34,
   "metadata": {},
   "outputs": [
    {
     "data": {
      "image/png": "[encoded data removed]",
      "text/plain": [
       "<Figure size 1440x360 with 3 Axes>"
      ]
     },
     "metadata": {
      "needs_background": "light"
     },
     "output_type": "display_data"
    }
   ],
   "source": [
    "# Remove outliers:\n",
    "# 1. compute z-score for every relevant columns\n",
    "# 2. take the absolute value (direction does not matter) and keep values below threshold\n",
    "zscore_thresh = 3\n",
    "dataset = dataset[(np.abs(zscore(dataset)) < zscore_thresh).all(axis=1)]\n",
    "\n",
    "# plot distribution of features and label\n",
    "fig, ax = plt.subplots(figsize=(20, 5))\n",
    "for i, col in enumerate(XY_names):\n",
    "    plt.subplot(1, len(XY_names), i+1)\n",
    "    plt.title(\"%s distribution\" % col)\n",
    "    plt.hist(dataset[col], bins=100)"
   ]
  },
  {
   "cell_type": "markdown",
   "metadata": {},
   "source": [
    "`factor_1` and `factor_2` seem to be somewhat normally distributued. However, `prob` values are exponentially distributed. While this is not required, it might help to log-transform the values of the label for model evaluation and later apply inverse function on top of the predicted values to get the actual predicted target value."
   ]
  },
  {
   "cell_type": "code",
   "execution_count": 35,
   "metadata": {},
   "outputs": [],
   "source": [
    "# standardizing features isn't needed as everything has almost normal distribution\n",
    "# dataset = StandardScaler().fit_transform(dataset)\n",
    "# dataset = pd.DataFrame(data=dataset, columns=XY_names)\n",
    "\n",
    "# RETROSPECTIVE CHANGE (see below): normalize features\n",
    "X = normalize(dataset[['factor_1', 'factor_2']], norm='max', axis=0)\n",
    "Y = dataset[['prob']]\n",
    "\n",
    "# log-transform target values\n",
    "Y = np.log(Y)\n",
    "\n",
    "X_train, X_test, Y_train, Y_test = train_test_split(X, Y, test_size=0.2, random_state=RANDOM_STATE)"
   ]
  },
  {
   "cell_type": "markdown",
   "metadata": {},
   "source": [
    "**RETROSPECTIVE CHANGE:**\n",
    "\n",
    "`factor_1` & `factor_2` values in the test file are distributed the same way as in the train file. *However*, they appear to be scaled up roughly by the factor of 10. Therefore, normalization is applied to each feture of `X`."
   ]
  },
  {
   "cell_type": "code",
   "execution_count": 36,
   "metadata": {},
   "outputs": [
    {
     "name": "stdout",
     "output_type": "stream",
     "text": [
      "MSE: 0.88237\n",
      "MAE: 0.73790\n",
      "R^2: 0.46656\n"
     ]
    }
   ],
   "source": [
    "# Ordinary least squares - Lasso / Ridge seem to bring little improvement\n",
    "lr = LinearRegression()\n",
    "lr.fit(X_train, Y_train)\n",
    "Y_pred = lr.predict(X_test)\n",
    "\n",
    "# NOTE: Evaluation on log-transformed values\n",
    "print(\"MSE: %.5f\" % mean_squared_error(Y_test, Y_pred))\n",
    "print(\"MAE: %.5f\" % mean_absolute_error(Y_test, Y_pred))\n",
    "print('R^2: %.5f' % r2_score(Y_test, Y_pred))"
   ]
  },
  {
   "cell_type": "code",
   "execution_count": 37,
   "metadata": {},
   "outputs": [
    {
     "name": "stdout",
     "output_type": "stream",
     "text": [
      "Assumption - Linear Relationship between the Target and the Feature:\n",
      "Predictions should follow the diagonal line.\n"
     ]
    },
    {
     "data": {
      "image/png": "[encoded data removed]",
      "text/plain": [
       "<Figure size 360x360 with 1 Axes>"
      ]
     },
     "metadata": {
      "needs_background": "light"
     },
     "output_type": "display_data"
    }
   ],
   "source": [
    "# Helper function\n",
    "def calculate_residuals(model, features, labels):\n",
    "    predictions = model.predict(features)\n",
    "    df_results = pd.DataFrame({'Actual': labels.to_numpy().flatten(), 'Predicted': predictions.flatten()})\n",
    "    df_results['Residuals'] = abs(df_results['Actual']) - abs(df_results['Predicted'])\n",
    "    return df_results\n",
    "\n",
    "# Linearity assumption check\n",
    "def linear_assumption(model, features, labels):\n",
    "    print('Assumption - Linear Relationship between the Target and the Feature:')\n",
    "    print('Predictions should follow the diagonal line.')\n",
    "    \n",
    "    # Calculating residuals for the plot\n",
    "    df_results = calculate_residuals(model, features, labels)\n",
    "    \n",
    "    # Plotting the actual vs predicted values\n",
    "    sns.lmplot(x='Actual', y='Predicted', data=df_results, fit_reg=False, size=5)\n",
    "        \n",
    "    # Plotting the diagonal line\n",
    "    line_coords = np.arange(df_results[['Actual','Predicted']].min().min(),\n",
    "                            df_results[['Actual','Predicted']].max().max())\n",
    "    plt.plot(line_coords, line_coords, color='darkorange', linestyle='--') \n",
    "    plt.title('Actual vs. Predicted')\n",
    "    plt.show()\n",
    "\n",
    "linear_assumption(lr, X_train, Y_train)"
   ]
  },
  {
   "cell_type": "markdown",
   "metadata": {},
   "source": [
    "The relationship is linear but not perfecty: The predictions seem to be biased towards higher values at the lower end, and slightly towards lower values at the higher end."
   ]
  },
  {
   "cell_type": "code",
   "execution_count": 38,
   "metadata": {},
   "outputs": [
    {
     "name": "stdout",
     "output_type": "stream",
     "text": [
      "Assumption - The residuals are normally distributed:\n",
      "p-value from the test - below 0.05 generally means non-normal: 0.004957062942211427\n"
     ]
    },
    {
     "data": {
      "image/png": "[encoded data removed]",
      "text/plain": [
       "<Figure size 720x360 with 1 Axes>"
      ]
     },
     "metadata": {
      "needs_background": "light"
     },
     "output_type": "display_data"
    }
   ],
   "source": [
    "# Normality assumption check\n",
    "def normal_errors_assumption(model, features, labels, p_value_thresh=0.05):\n",
    "    print('Assumption - The residuals are normally distributed:')\n",
    "    \n",
    "    # Calculating residuals for the Anderson-Darling test\n",
    "    df_results = calculate_residuals(model, features, labels)\n",
    "    \n",
    "    # Performing the Anderson-Darling test for normal distribution on the residuals\n",
    "    p_value = normal_ad(df_results['Residuals'])[1]\n",
    "    print('p-value from the test - below 0.05 generally means non-normal:', p_value)\n",
    "    \n",
    "    # Plotting the residuals distribution\n",
    "    plt.subplots(figsize=(10, 5))\n",
    "    plt.title('Distribution of Residuals')\n",
    "    sns.distplot(df_results['Residuals'])\n",
    "    plt.show()\n",
    "\n",
    "normal_errors_assumption(lr, X_train, Y_train)"
   ]
  },
  {
   "cell_type": "markdown",
   "metadata": {},
   "source": [
    "With the results of the Anderson-Darling test & the plot, we can see that this is not ideal and that the model is slightly biased towards underestimating."
   ]
  },
  {
   "cell_type": "code",
   "execution_count": 39,
   "metadata": {},
   "outputs": [
    {
     "name": "stdout",
     "output_type": "stream",
     "text": [
      "Assumption - Homoscedasticity of Error Terms:\n",
      "Residuals should have relative constant variance\n"
     ]
    },
    {
     "data": {
      "image/png": "[encoded data removed]",
      "text/plain": [
       "<Figure size 720x360 with 1 Axes>"
      ]
     },
     "metadata": {
      "needs_background": "light"
     },
     "output_type": "display_data"
    }
   ],
   "source": [
    "# Homoscedasticity assumption check\n",
    "def homoscedasticity_assumption(model, features, labels):\n",
    "    print('Assumption - Homoscedasticity of Error Terms:')\n",
    "    print('Residuals should have relative constant variance')\n",
    "        \n",
    "    # Calculating residuals for the plot\n",
    "    df_results = calculate_residuals(model, features, labels)\n",
    "    \n",
    "    # Plotting the residuals\n",
    "    plt.subplots(figsize=(10, 5))\n",
    "    plt.scatter(x=df_results.index, y=df_results.Residuals, alpha=0.5)\n",
    "    plt.plot(np.repeat(0, df_results.index.max()), color='darkorange', linestyle='--')\n",
    "    plt.title('Residuals')\n",
    "    plt.show()  \n",
    "    \n",
    "homoscedasticity_assumption(lr, X_train, Y_train)"
   ]
  },
  {
   "cell_type": "markdown",
   "metadata": {},
   "source": [
    "There does not seem to be any apparent problem with this assumption."
   ]
  },
  {
   "cell_type": "code",
   "execution_count": 40,
   "metadata": {},
   "outputs": [
    {
     "name": "stdout",
     "output_type": "stream",
     "text": [
      "The coefficients are 3.511819, 3.159070:\n",
      "The intercept is -9.438290:\n"
     ]
    }
   ],
   "source": [
    "print(\"The coefficients are %f, %f:\" % (lr.coef_[0][0], lr.coef_[0][1]))\n",
    "print(\"The intercept is %f:\" % lr.intercept_)"
   ]
  },
  {
   "cell_type": "markdown",
   "metadata": {},
   "source": [
    "Given that we have log-transformed the label, we need to inverse the operation. The model can be ultimately described as:\n",
    "\n",
    "$$\\Large \\mathrm{prob}\\;=\\;e^{(3.511819\\;*\\;\\mathrm{frac\\_1}\\;+\\;3.159070\\;*\\;\\mathrm{frac\\_2}\\;-\\;9.438290)}$$"
   ]
  },
  {
   "cell_type": "markdown",
   "metadata": {},
   "source": [
    "## Q3.2"
   ]
  },
  {
   "cell_type": "markdown",
   "metadata": {},
   "source": [
    "Predicting a 0/1 value denotes a binary classification task.\n",
    "\n",
    "It would make sense to include `prob` as a prediction attribute as well, however for this project, it might be hard to verify the model on the test dataset in the final question, considering that the `prob` value is predicted by the previous model and therefore affected by its quality."
   ]
  },
  {
   "cell_type": "code",
   "execution_count": 41,
   "metadata": {},
   "outputs": [
    {
     "data": {
      "text/plain": [
       "0.0    1173\n",
       "1.0       7\n",
       "Name: click, dtype: int64"
      ]
     },
     "execution_count": 41,
     "metadata": {},
     "output_type": "execute_result"
    }
   ],
   "source": [
    "features = ['factor_1', 'factor_2']\n",
    "X = df_factors[features]\n",
    "Y = df_factors['click']\n",
    "\n",
    "# representation of samples in the dataset\n",
    "Y.value_counts()"
   ]
  },
  {
   "cell_type": "markdown",
   "metadata": {},
   "source": [
    "Unfortunately, the issue here is that dataset is extremely unbalanced (~167:1), which poses a significant problem for learning.\n",
    "\n",
    "There are many was this can be dealt with:\n",
    "\n",
    "1. Collect more data (not possible here);\n",
    "2. Undersampling/undersamping of instances;\n",
    "3. Generating synthetic samples;\n",
    "4. Included weights;\n",
    "...\n",
    "\n",
    "Based on [this paper](https://statistics.berkeley.edu/sites/default/files/tech-reports/666.pdf) by Breiman (author of Random Forests), **Weighted Random Forests** were considered as an approach as they have performance superior to most of the techniques examined by the paper. *However*, this has resulted in unsatisfying performance, as the scale of the unbalancedness would cause the training instance to overfit."
   ]
  },
  {
   "cell_type": "code",
   "execution_count": 42,
   "metadata": {},
   "outputs": [],
   "source": [
    "def print_confusion_matrix(confusion_matrix):\n",
    "    class_names = ['Not Click', 'Click']\n",
    "    df_cm = pd.DataFrame(confusion_matrix,\n",
    "                         index=['True %s' % c for c in class_names],\n",
    "                         columns=['Pred %s' % c for c in class_names])\n",
    "    display(df_cm)"
   ]
  },
  {
   "cell_type": "code",
   "execution_count": 43,
   "metadata": {},
   "outputs": [
    {
     "name": "stdout",
     "output_type": "stream",
     "text": [
      "F1 Score:  0.0\n",
      "AUC:       0.6236003445305771\n"
     ]
    },
    {
     "data": {
      "text/html": [
       "<div>\n",
       "<style scoped>\n",
       "    .dataframe tbody tr th:only-of-type {\n",
       "        vertical-align: middle;\n",
       "    }\n",
       "\n",
       "    .dataframe tbody tr th {\n",
       "        vertical-align: top;\n",
       "    }\n",
       "\n",
       "    .dataframe thead th {\n",
       "        text-align: right;\n",
       "    }\n",
       "</style>\n",
       "<table border=\"1\" class=\"dataframe\">\n",
       "  <thead>\n",
       "    <tr style=\"text-align: right;\">\n",
       "      <th></th>\n",
       "      <th>Pred Not Click</th>\n",
       "      <th>Pred Click</th>\n",
       "    </tr>\n",
       "  </thead>\n",
       "  <tbody>\n",
       "    <tr>\n",
       "      <th>True Not Click</th>\n",
       "      <td>786</td>\n",
       "      <td>0</td>\n",
       "    </tr>\n",
       "    <tr>\n",
       "      <th>True Click</th>\n",
       "      <td>0</td>\n",
       "      <td>4</td>\n",
       "    </tr>\n",
       "  </tbody>\n",
       "</table>\n",
       "</div>"
      ],
      "text/plain": [
       "                Pred Not Click  Pred Click\n",
       "True Not Click             786           0\n",
       "True Click                   0           4"
      ]
     },
     "metadata": {},
     "output_type": "display_data"
    },
    {
     "data": {
      "text/html": [
       "<div>\n",
       "<style scoped>\n",
       "    .dataframe tbody tr th:only-of-type {\n",
       "        vertical-align: middle;\n",
       "    }\n",
       "\n",
       "    .dataframe tbody tr th {\n",
       "        vertical-align: top;\n",
       "    }\n",
       "\n",
       "    .dataframe thead th {\n",
       "        text-align: right;\n",
       "    }\n",
       "</style>\n",
       "<table border=\"1\" class=\"dataframe\">\n",
       "  <thead>\n",
       "    <tr style=\"text-align: right;\">\n",
       "      <th></th>\n",
       "      <th>Pred Not Click</th>\n",
       "      <th>Pred Click</th>\n",
       "    </tr>\n",
       "  </thead>\n",
       "  <tbody>\n",
       "    <tr>\n",
       "      <th>True Not Click</th>\n",
       "      <td>387</td>\n",
       "      <td>0</td>\n",
       "    </tr>\n",
       "    <tr>\n",
       "      <th>True Click</th>\n",
       "      <td>3</td>\n",
       "      <td>0</td>\n",
       "    </tr>\n",
       "  </tbody>\n",
       "</table>\n",
       "</div>"
      ],
      "text/plain": [
       "                Pred Not Click  Pred Click\n",
       "True Not Click             387           0\n",
       "True Click                   3           0"
      ]
     },
     "metadata": {},
     "output_type": "display_data"
    }
   ],
   "source": [
    "X_train, X_test, Y_train, Y_test = train_test_split(X, Y,\n",
    "                                                    test_size=0.33,\n",
    "                                                    random_state=RANDOM_STATE)\n",
    "\n",
    "# because the classes are imbalanced, we need to compute class weights\n",
    "class_weights = compute_class_weight('balanced', classes=[0, 1], y=np.ravel(Y_train))\n",
    "\n",
    "clf_balanced = RandomForestClassifier(criterion='entropy',\n",
    "                                      class_weight={c: class_weights[c] for c in [0, 1]},\n",
    "                                      random_state=RANDOM_STATE,\n",
    "                                      n_estimators=50,\n",
    "                                      min_samples_split=5,\n",
    "                                      n_jobs=-1)\n",
    "clf_balanced.fit(X_train, Y_train)\n",
    "Y_pred = clf_balanced.predict_proba(X_test)[:, 1]\n",
    "\n",
    "print('F1 Score: ', f1_score(Y_test, np.round(Y_pred)))\n",
    "print('AUC:      ', roc_auc_score(Y_test, Y_pred))\n",
    "\n",
    "print_confusion_matrix(confusion_matrix(Y_train, np.round(clf_balanced.predict_proba(X_train)[:, 1])))\n",
    "print_confusion_matrix(confusion_matrix(Y_test, np.round(Y_pred)))"
   ]
  },
  {
   "cell_type": "markdown",
   "metadata": {},
   "source": [
    "Instead, the approach chosen was to randomly sample the attributes from instances in the minority class under the assumption of underlying normal distribution. This was achieved using **Kernel density estimation** that created synthetic positive instances from the existing underreprested instances that were used to train the model. The quality of the model was verified using the real positive instance, that have not appeared in the training set. Still, this approach has the risk of overfitting if the synthetic samples are too closely resembling the real samples. The smoothness of the fit is controlled by the `bandwith` parameter.\n",
    "\n",
    "The choice of `bandwith` parameter, alongside with hyperparameter values for the model were obtained using **Grid Search**."
   ]
  },
  {
   "cell_type": "code",
   "execution_count": 44,
   "metadata": {},
   "outputs": [],
   "source": [
    "# hyperparams = {'n_estimators': [5, 10, 20, 30, 50, 75, 100, 200, 500, 1000],\n",
    "#                'min_samples_split': [2, 3, 4, 5, 7, 10, 20],\n",
    "#                'min_samples_leaf': [1, 2, 3, 4, 5, 7, 10],\n",
    "#                'criterion': ['gini', 'entropy']}\n",
    "\n",
    "# grid_search = GridSearchCV(\n",
    "#     RandomForestClassifier(\n",
    "#         random_state=RANDOM_STATE,\n",
    "#         n_jobs=-1),\n",
    "#     hyperparams,\n",
    "#     scoring='f1')\n",
    "# grid_search.fit(X_train, Y_train)"
   ]
  },
  {
   "cell_type": "code",
   "execution_count": 45,
   "metadata": {},
   "outputs": [
    {
     "name": "stdout",
     "output_type": "stream",
     "text": [
      "Performance on training data:\n",
      "  F1 Score: 0.9995739241585002\n",
      "  AUC:      1.0\n"
     ]
    },
    {
     "data": {
      "text/html": [
       "<div>\n",
       "<style scoped>\n",
       "    .dataframe tbody tr th:only-of-type {\n",
       "        vertical-align: middle;\n",
       "    }\n",
       "\n",
       "    .dataframe tbody tr th {\n",
       "        vertical-align: top;\n",
       "    }\n",
       "\n",
       "    .dataframe thead th {\n",
       "        text-align: right;\n",
       "    }\n",
       "</style>\n",
       "<table border=\"1\" class=\"dataframe\">\n",
       "  <thead>\n",
       "    <tr style=\"text-align: right;\">\n",
       "      <th></th>\n",
       "      <th>Pred Not Click</th>\n",
       "      <th>Pred Click</th>\n",
       "    </tr>\n",
       "  </thead>\n",
       "  <tbody>\n",
       "    <tr>\n",
       "      <th>True Not Click</th>\n",
       "      <td>1172</td>\n",
       "      <td>1</td>\n",
       "    </tr>\n",
       "    <tr>\n",
       "      <th>True Click</th>\n",
       "      <td>0</td>\n",
       "      <td>1173</td>\n",
       "    </tr>\n",
       "  </tbody>\n",
       "</table>\n",
       "</div>"
      ],
      "text/plain": [
       "                Pred Not Click  Pred Click\n",
       "True Not Click            1172           1\n",
       "True Click                   0        1173"
      ]
     },
     "metadata": {},
     "output_type": "display_data"
    },
    {
     "name": "stdout",
     "output_type": "stream",
     "text": [
      "\n",
      "Performance on real data:\n",
      "  F1 Score: 0.8571428571428571\n",
      "  AUC:      0.9851418828400925\n"
     ]
    },
    {
     "data": {
      "text/html": [
       "<div>\n",
       "<style scoped>\n",
       "    .dataframe tbody tr th:only-of-type {\n",
       "        vertical-align: middle;\n",
       "    }\n",
       "\n",
       "    .dataframe tbody tr th {\n",
       "        vertical-align: top;\n",
       "    }\n",
       "\n",
       "    .dataframe thead th {\n",
       "        text-align: right;\n",
       "    }\n",
       "</style>\n",
       "<table border=\"1\" class=\"dataframe\">\n",
       "  <thead>\n",
       "    <tr style=\"text-align: right;\">\n",
       "      <th></th>\n",
       "      <th>Pred Not Click</th>\n",
       "      <th>Pred Click</th>\n",
       "    </tr>\n",
       "  </thead>\n",
       "  <tbody>\n",
       "    <tr>\n",
       "      <th>True Not Click</th>\n",
       "      <td>1172</td>\n",
       "      <td>1</td>\n",
       "    </tr>\n",
       "    <tr>\n",
       "      <th>True Click</th>\n",
       "      <td>1</td>\n",
       "      <td>6</td>\n",
       "    </tr>\n",
       "  </tbody>\n",
       "</table>\n",
       "</div>"
      ],
      "text/plain": [
       "                Pred Not Click  Pred Click\n",
       "True Not Click            1172           1\n",
       "True Click                   1           6"
      ]
     },
     "metadata": {},
     "output_type": "display_data"
    }
   ],
   "source": [
    "X_pos = df_factors[df_factors['click'] == 1][features]   # values of X where click == 1\n",
    "X_neg = df_factors[df_factors['click'] == 0][features]   # values of X where click == 0\n",
    "\n",
    "# Fit a kernel density model with underrepresented class\n",
    "kde = KernelDensity(bandwidth=0.2)\n",
    "kde.fit(X_pos)\n",
    "# Sample synthetic positive data in the size of the actual negative data,\n",
    "# so that we have a balanded training set\n",
    "X_pos_sampled = kde.sample(len(X_neg), random_state=RANDOM_STATE)\n",
    "# Create a training dataset\n",
    "X_train = np.vstack((X_neg, X_pos_sampled))\n",
    "# Add appropriate labels\n",
    "Y_train = np.array([0] * len(X_neg) + [1] * len(X_pos_sampled))\n",
    "# Shuffle the training set\n",
    "p = np.random.RandomState(seed=RANDOM_STATE).permutation(len(X_train))\n",
    "X_train, Y_train = X_train[p], Y_train[p]\n",
    "\n",
    "clf = RandomForestClassifier(criterion='gini',\n",
    "                             random_state=RANDOM_STATE,\n",
    "                             n_estimators=100,\n",
    "                             min_samples_split=3,\n",
    "                             n_jobs=-1)\n",
    "clf.fit(X_train, Y_train)\n",
    "\n",
    "print(\"Performance on training data:\")\n",
    "Y_pred_train = clf.predict_proba(X_train)[:, 1]\n",
    "print('  F1 Score:', f1_score(Y_train, np.round(Y_pred_train)))\n",
    "print('  AUC:     ', roc_auc_score(Y_train, Y_pred_train))\n",
    "print_confusion_matrix(confusion_matrix(Y_train, np.round(Y_pred_train)))\n",
    "\n",
    "# Verify the performance on the real dataset\n",
    "print(\"\\nPerformance on real data:\")\n",
    "Y_pred = clf.predict_proba(X)[:, 1]\n",
    "print('  F1 Score:', f1_score(Y, np.round(Y_pred)))\n",
    "print('  AUC:     ', roc_auc_score(Y, Y_pred))\n",
    "print_confusion_matrix(confusion_matrix(Y, np.round(Y_pred)))"
   ]
  },
  {
   "cell_type": "markdown",
   "metadata": {},
   "source": [
    "The resulting model offers quality prediction performance on the real data. It outperforms the baselines, a naive random-guessing model as well as the weighted model proposed by Breiman. It correctly classified 6/7 of previously unseen click instances, and incorrectly predicted one not-click instancess (FP), yielding the solid overall F1 score of 0.85."
   ]
  },
  {
   "cell_type": "markdown",
   "metadata": {},
   "source": [
    "## Q3.3"
   ]
  },
  {
   "cell_type": "code",
   "execution_count": 46,
   "metadata": {},
   "outputs": [],
   "source": [
    "df_bids_test = pd.read_csv(\"./bids_test.csv\")\n",
    "# auction_id is de facto the index -> redundant column\n",
    "df_bids_test.index = df_bids_test.auction_id\n",
    "df_bids_test.drop(\"auction_id\", axis=1, inplace=True)\n",
    "\n",
    "df_factors_test = pd.read_csv(\"./factors_test.csv\")"
   ]
  },
  {
   "cell_type": "code",
   "execution_count": 47,
   "metadata": {},
   "outputs": [],
   "source": [
    "# Transform the features in the same way as when fitting the model\n",
    "X_new = normalize(df_factors_test[['factor_1', 'factor_2']], norm='max', axis=0)\n",
    "# Obtain the probability estimates\n",
    "Y_pred = np.exp(lr.predict(X_new))\n",
    "# Add the probability predictions into the DataFrame\n",
    "df_factors_test.insert(5, \"prob\", Y_pred)"
   ]
  },
  {
   "cell_type": "markdown",
   "metadata": {},
   "source": [
    "Compute the revenue from the new set of auctions"
   ]
  },
  {
   "cell_type": "code",
   "execution_count": 48,
   "metadata": {},
   "outputs": [
    {
     "name": "stdout",
     "output_type": "stream",
     "text": [
      "Total revenue: 1129.98\n"
     ]
    }
   ],
   "source": [
    "# get the ids of the auctions that have been clicked on\n",
    "successful_auction_ids_test = df_factors_test[df_factors_test.click == 1].auction_id\n",
    "# get the revenue generated from a click on each auction\n",
    "click_prices_test = get_click_price(df_bids_test, df_factors_test)\n",
    "\n",
    "print(\"Total revenue: %.2f\" % sum(click_prices_test[successful_auction_ids_test]))"
   ]
  },
  {
   "cell_type": "markdown",
   "metadata": {},
   "source": [
    "## Q3.4"
   ]
  },
  {
   "cell_type": "code",
   "execution_count": 49,
   "metadata": {},
   "outputs": [],
   "source": [
    "X_new = df_factors_test[['factor_1', 'factor_2']]\n",
    "Y_new = df_factors_test[['click']]\n",
    "Y_pred = clf.predict_proba(X_new)[:,1]"
   ]
  },
  {
   "cell_type": "code",
   "execution_count": 50,
   "metadata": {},
   "outputs": [
    {
     "name": "stdout",
     "output_type": "stream",
     "text": [
      "  F1 Score: 0.0\n",
      "  AUC:      0.4687107576391796\n"
     ]
    },
    {
     "data": {
      "text/html": [
       "<div>\n",
       "<style scoped>\n",
       "    .dataframe tbody tr th:only-of-type {\n",
       "        vertical-align: middle;\n",
       "    }\n",
       "\n",
       "    .dataframe tbody tr th {\n",
       "        vertical-align: top;\n",
       "    }\n",
       "\n",
       "    .dataframe thead th {\n",
       "        text-align: right;\n",
       "    }\n",
       "</style>\n",
       "<table border=\"1\" class=\"dataframe\">\n",
       "  <thead>\n",
       "    <tr style=\"text-align: right;\">\n",
       "      <th></th>\n",
       "      <th>Pred Not Click</th>\n",
       "      <th>Pred Click</th>\n",
       "    </tr>\n",
       "  </thead>\n",
       "  <tbody>\n",
       "    <tr>\n",
       "      <th>True Not Click</th>\n",
       "      <td>4750</td>\n",
       "      <td>28</td>\n",
       "    </tr>\n",
       "    <tr>\n",
       "      <th>True Click</th>\n",
       "      <td>22</td>\n",
       "      <td>0</td>\n",
       "    </tr>\n",
       "  </tbody>\n",
       "</table>\n",
       "</div>"
      ],
      "text/plain": [
       "                Pred Not Click  Pred Click\n",
       "True Not Click            4750          28\n",
       "True Click                  22           0"
      ]
     },
     "metadata": {},
     "output_type": "display_data"
    }
   ],
   "source": [
    "print('  F1 Score:', f1_score(Y_new, np.round(Y_pred)))\n",
    "print('  AUC:     ', roc_auc_score(Y_new, Y_pred))\n",
    "print_confusion_matrix(confusion_matrix(Y_new, np.round(Y_pred)))"
   ]
  },
  {
   "cell_type": "markdown",
   "metadata": {},
   "source": [
    "Perhaps unsurprisingly, the model does not perform well at all on the test dataset. There are several reasons why this might be the case.\n",
    "\n",
    "Firstly, it can be the choice of model features. Including `prob` as a feature could seem like an obvious way to improve the model. However, given that for the test dataset the `prob` value is generated by the previous model, there would be a dependency in the predictions based on another model's performance. This might be a completely valid pipeline in certain situations, however as the models here are not finetuned, including the attribute might introduce further problems when evaluating it.\n",
    "\n",
    "Secondly, the entries in the train dataset may be an unrepresentative sample of data from the domain. In other words, the representation the model has learned from the training dataset does not correspond to the sampling distribution from which the dataset was taken from. The remedy here could be to get a larger and more representative sample of data from the domain.\n",
    "\n",
    "Most likely, the poor performance stems from the disproportionate underrepresentation of `click=1` instances in the dataset. Simply put, the training dataset does not contain enough data for a model to learn from. The kernel density method that tries to balance out this deficiency seems to perform reasonably well on a small subset of the train data, but overall it seems to not be able to generalize to the distribution from which the test dataset was sampled.\n",
    "\n",
    "The exercise specifications clearly specificied which data to use for training and which for validation of the model. Generally speaking, it might help to improve the performance of the models by concatenating both of the sets and then randomly splitting them several times for various iterations of the training process."
   ]
  }
 ],
 "metadata": {
  "kernelspec": {
   "display_name": "Python 3",
   "language": "python",
   "name": "python3"
  },
  "language_info": {
   "codemirror_mode": {
    "name": "ipython",
    "version": 3
   },
   "file_extension": ".py",
   "mimetype": "text/x-python",
   "name": "python",
   "nbconvert_exporter": "python",
   "pygments_lexer": "ipython3",
   "version": "3.9.0"
  }
 },
 "nbformat": 4,
 "nbformat_minor": 4
}
